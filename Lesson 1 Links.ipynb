{
 "cells": [
  {
   "cell_type": "markdown",
   "metadata": {},
   "source": [
    "# Links from lession 1\n",
    "\n",
    "* [Style Transfer](https://github.com/lengstrom/fast-style-transfer)\n",
    "* Reinforcement Learning: [Self Driving Car Simulator](http://selfdrivingcars.mit.edu/deeptrafficjs/)\n",
    "* Reinforcement Learning: [Flappy Birds](https://github.com/yenchenlin/DeepLearningFlappyBird)"
   ]
  },
  {
   "cell_type": "code",
   "execution_count": null,
   "metadata": {
    "collapsed": true
   },
   "outputs": [],
   "source": []
  }
 ],
 "metadata": {
  "kernelspec": {
   "display_name": "Python [conda root]",
   "language": "python",
   "name": "conda-root-py"
  },
  "language_info": {
   "codemirror_mode": {
    "name": "ipython",
    "version": 3
   },
   "file_extension": ".py",
   "mimetype": "text/x-python",
   "name": "python",
   "nbconvert_exporter": "python",
   "pygments_lexer": "ipython3",
   "version": "3.6.1"
  }
 },
 "nbformat": 4,
 "nbformat_minor": 2
}
